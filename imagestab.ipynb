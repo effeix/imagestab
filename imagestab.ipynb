{
 "cells": [
  {
   "cell_type": "code",
   "execution_count": 1,
   "metadata": {},
   "outputs": [],
   "source": [
    "%reset -f\n",
    "%matplotlib inline\n",
    "\n",
    "import time\n",
    "\n",
    "import cv2\n",
    "import numpy as np\n",
    "import matplotlib.pyplot as plt\n",
    "\n",
    "\n",
    "EXIT_KEY = 27\n",
    "N_POINTS = 100"
   ]
  },
  {
   "cell_type": "code",
   "execution_count": 3,
   "metadata": {},
   "outputs": [],
   "source": [
    "# Capture webcam\n",
    "cap = cv2.VideoCapture(0)\n",
    "\n",
    "# Set video buffer size to 1 to prevent buffer filling up\n",
    "cap.set(cv2.CAP_PROP_BUFFERSIZE, 1)\n",
    "\n",
    "while True:\n",
    "    # Get current frame\n",
    "    ret, frame = cap.read()\n",
    "\n",
    "    # Get list of points matching certain criteria\n",
    "    #\n",
    "    # goodFeaturesToTrack() uses 1 channel images to choose points,\n",
    "    # so we convert frame to grayscale\n",
    "    params = {\n",
    "        'maxCorners': N_POINTS,\n",
    "        'qualityLevel': 0.3,\n",
    "        'minDistance': 7,\n",
    "        'blockSize': 7\n",
    "    }\n",
    "    \n",
    "    pts = cv2.goodFeaturesToTrack(\n",
    "        cv2.cvtColor(frame, cv2.COLOR_BGR2GRAY),\n",
    "        mask = None,\n",
    "        **params\n",
    "    )\n",
    "\n",
    "    # Generate N_POINTS random colors => (R, G, B) x N_POINTS\n",
    "    color = np.random.randint(0, 255, (N_POINTS, 3))\n",
    "\n",
    "    # Insert a circle in each point\n",
    "    for i, pt in enumerate(pts):\n",
    "            a, b = pt.ravel()\n",
    "            frame = cv2.circle(frame, (a, b), 5, color[i].tolist(), -1)\n",
    "        \n",
    "    # Mirror image because OpenCV is flipped by default\n",
    "    flipped = cv2.flip(frame, 1)\n",
    "    \n",
    "    # Show webcam\n",
    "    cv2.imshow(\"Video\", flipped)\n",
    "\n",
    "    # Close window if EXIT_KEY was pressed\n",
    "    key = cv2.waitKey(30)\n",
    "    \n",
    "    if key == EXIT_KEY:\n",
    "        break\n",
    "\n",
    "cap.release()\n",
    "cv2.destroyAllWindows()"
   ]
  }
 ],
 "metadata": {
  "kernelspec": {
   "display_name": "Python 3",
   "language": "python",
   "name": "python3"
  },
  "language_info": {
   "codemirror_mode": {
    "name": "ipython",
    "version": 3
   },
   "file_extension": ".py",
   "mimetype": "text/x-python",
   "name": "python",
   "nbconvert_exporter": "python",
   "pygments_lexer": "ipython3",
   "version": "3.6.5"
  }
 },
 "nbformat": 4,
 "nbformat_minor": 2
}

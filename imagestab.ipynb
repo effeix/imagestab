{
 "cells": [
  {
   "cell_type": "code",
   "execution_count": 12,
   "metadata": {},
   "outputs": [],
   "source": [
    "%reset -f\n",
    "%matplotlib inline\n",
    "\n",
    "import time\n",
    "\n",
    "import cv2\n",
    "import numpy as np\n",
    "import matplotlib.pyplot as plt\n",
    "\n",
    "\n",
    "SOURCE = 0\n",
    "KEY_ESC = 27\n",
    "KEY_Q = 113\n",
    "EXIT_KEY = KEY_Q\n",
    "N_POINTS = 100"
   ]
  },
  {
   "cell_type": "code",
   "execution_count": 13,
   "metadata": {},
   "outputs": [],
   "source": [
    "class DenseOpticalFlow:\n",
    "    def __init__(self):\n",
    "        pass"
   ]
  },
  {
   "cell_type": "code",
   "execution_count": 15,
   "metadata": {
    "scrolled": true
   },
   "outputs": [],
   "source": [
    "# Capture webcam\n",
    "cap = cv2.VideoCapture(SOURCE)\n",
    "\n",
    "# Set video buffer size to 1 to prevent buffer filling up\n",
    "cap.set(cv2.CAP_PROP_BUFFERSIZE, 1)\n",
    "\n",
    "# First frame\n",
    "_, frame = cap.read()\n",
    "gray_frame = cv2.cvtColor(frame, cv2.COLOR_BGR2GRAY)\n",
    "\n",
    "# Store optical flow for all images\n",
    "accumulated_mean_flow = np.array([[.0, .0]])\n",
    "\n",
    "while True:\n",
    "    # Save previous frame\n",
    "    prev_gray_frame = gray_frame\n",
    "    \n",
    "    # Get current frame\n",
    "    ret, frame = cap.read()\n",
    "    gray_frame = cv2.cvtColor(frame, cv2.COLOR_BGR2GRAY)\n",
    "\n",
    "    # Calculate optical flow between previous and current frame\n",
    "    flow = cv2.calcOpticalFlowFarneback(\n",
    "        prev_gray_frame, # old frame\n",
    "        gray_frame,      # new frame\n",
    "        flow=None,       # where to save the flow matrix, not needed since we are returning\n",
    "        pyr_scale=0.5,   # image scale for the pyramid\n",
    "        levels=3,        # number of pyramid layers\n",
    "        winsize=15,      # size of window used by flow algorithm (higher <=> more blur)\n",
    "        iterations=4,    # max iterations for each pyramid layer\n",
    "        poly_n=5,        # using recommended value (see docs)\n",
    "        poly_sigma=1.1,  # using recommended value (see docs)\n",
    "        flags=0          # operational flags (see docs)\n",
    "    )\n",
    "    \n",
    "    # Calculate mean flow in x and y dimensions \n",
    "    mean_flow_x = np.mean(flow[:, :, 0])\n",
    "    mean_flow_y = np.mean(flow[:, :, 1])\n",
    "    accumulated_mean_flow -= [mean_flow_x, mean_flow_y]\n",
    "    \n",
    "    # Shift image to compensate flow difference\n",
    "    # https://docs.opencv.org/3.0-beta/doc/py_tutorials/py_imgproc/py_geometric_transformations/py_geometric_transformations.html#translation\n",
    "    tx = accumulated_mean_flow[0][0]\n",
    "    ty = accumulated_mean_flow[0][1]\n",
    "    M = np.array([[1, 0, tx], [0, 1, ty]], dtype=np.float32)\n",
    "    gray_frame_shifted = cv2.warpAffine(gray_frame, M, (gray_frame.shape[1], gray_frame.shape[0]))\n",
    "\n",
    "    # Mirror image because OpenCV is flipped by default\n",
    "    flipped = cv2.flip(gray_frame_shifted, 1)\n",
    "    \n",
    "    # Display shifted frame\n",
    "    cv2.imshow(\"Video\", gray_frame_shifted)\n",
    "\n",
    "    # Close window if EXIT_KEY was pressed\n",
    "    key = cv2.waitKey(30)\n",
    "    if key == EXIT_KEY:\n",
    "        break\n",
    "\n",
    "cap.release()\n",
    "cv2.destroyAllWindows()"
   ]
  }
 ],
 "metadata": {
  "kernelspec": {
   "display_name": "Python 3",
   "language": "python",
   "name": "python3"
  },
  "language_info": {
   "codemirror_mode": {
    "name": "ipython",
    "version": 3
   },
   "file_extension": ".py",
   "mimetype": "text/x-python",
   "name": "python",
   "nbconvert_exporter": "python",
   "pygments_lexer": "ipython3",
   "version": "3.6.5"
  }
 },
 "nbformat": 4,
 "nbformat_minor": 2
}
